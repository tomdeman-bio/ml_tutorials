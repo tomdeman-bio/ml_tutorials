{
 "cells": [
  {
   "cell_type": "code",
   "execution_count": null,
   "metadata": {
    "collapsed": true
   },
   "outputs": [],
   "source": [
    "\"\"\"\n",
    "============================\n",
    "Nearest Neighbors regression\n",
    "============================\n",
    "\n",
    "Demonstrate the resolution of a regression problem\n",
    "using a k-Nearest Neighbor and the interpolation of the\n",
    "target using both barycenter and constant weights.\n",
    "\n",
    "\"\"\"\n",
    "###############################################################################\n",
    "# Generate sample data\n",
    "import numpy as np\n",
    "import matplotlib.pyplot as plt\n",
    "from sklearn import neighbors\n",
    "\n",
    "\n",
    "np.random.seed(0)\n",
    "X = np.sort(5 * np.random.rand(40, 1), axis=0)\n",
    "XX = np.linspace(0, 5, 500)[:, np.newaxis]\n",
    "y = np.sin(X).ravel()\n",
    "\n",
    "# Add noise to targets\n",
    "y[::5] += 1 * (0.5 - np.random.rand(8))\n",
    "\n",
    "print('train X')\n",
    "print(X)\n",
    "print('train y')\n",
    "print(y)\n",
    "print('test X')\n",
    "print(XX)\n",
    "\n",
    "\n",
    "plt.scatter(X, y, c='k', label='train')\n",
    "plt.axis('tight')\n",
    "plt.legend()\n",
    "plt.savefig('knn_01.png', bbox_inches='tight')\n",
    "\n",
    "\n",
    "\n",
    "###############################################################################\n",
    "# Fit regression model\n",
    "n_neighbors = 5\n",
    "knn = neighbors.KNeighborsRegressor(n_neighbors, weights='uniform')\n",
    "regr = knn.fit(X, y)\n",
    "print(knn)\n",
    "\n",
    "\n",
    "yy_ = regr.predict(XX)\n",
    "print('predicted values')\n",
    "print(yy_)\n",
    "\n",
    "\n",
    "plt.clf()\n",
    "plt.scatter(X, y, c='k', label='data')\n",
    "plt.plot(XX, yy_, c='g', label='prediction')\n",
    "plt.axis('tight')\n",
    "plt.legend()\n",
    "plt.show()"
   ]
  }
 ],
 "metadata": {
  "kernelspec": {
   "display_name": "IPython (Python 2)",
   "language": "",
   "name": "tflow-kernel"
  },
  "language_info": {
   "codemirror_mode": {
    "name": "ipython",
    "version": 2
   },
   "file_extension": ".py",
   "mimetype": "text/x-python",
   "name": "python",
   "nbconvert_exporter": "python",
   "pygments_lexer": "ipython2",
   "version": "2.7.13"
  }
 },
 "nbformat": 4,
 "nbformat_minor": 0
}
